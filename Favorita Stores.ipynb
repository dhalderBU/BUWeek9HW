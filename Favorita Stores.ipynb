{
 "cells": [
  {
   "metadata": {},
   "cell_type": "markdown",
   "source": [
    "### Dataset Description\n",
    "\n",
    "#### Dataset Proposed by Kristina   Store Sales - Time Series Forecasting\n",
    "\n",
    "https://kaggle.com/competitions/store-sales-time-series-forecasting"
   ],
   "id": "d4b551cecc824946"
  },
  {
   "metadata": {},
   "cell_type": "markdown",
   "source": [
    "### Dataset Description\n",
    "\n",
    "\n",
    "In this competition, you will predict sales for the thousands of product families sold at Favorita stores located in Ecuador. The training data includes dates, store and product information, whether that item was being promoted, as well as the sales numbers. Additional files include supplementary information that may be useful in building your models.\n",
    "\n",
    "#### File Descriptions and Data Field Information\n",
    "\n",
    "\n",
    "#### train.csv\n",
    "\n",
    "\n",
    "- The training data, comprising time series of features store_nbr, family, and onpromotion as well as the target sales.\n",
    "- store_nbr identifies the store at which the products are sold.\n",
    "- family identifies the type of product sold.\n",
    "- sales gives the total sales for a product family at a particular store at a given date. Fractional values are possible since products can be sold in fractional units (1.5 kg of cheese, for instance, as opposed to 1 bag of chips).\n",
    "- onpromotion gives the total number of items in a product family that were being promoted at a store at a given date.\n",
    "\n",
    "\n",
    "#### test.csv\n",
    "\n",
    "\n",
    "- The test data, having the same features as the training data. You will predict the target sales for the dates in this file.\n",
    "- The dates in the test data are for the 15 days after the last date in the training data.\n",
    " \n",
    "\n",
    "#### stores.csv\n",
    "\n",
    "\n",
    "- Store metadata, including city, state, type, and cluster.\n",
    "- cluster is a grouping of similar stores.\n",
    "\n",
    "\n",
    "#### oil.csv\n",
    "\n",
    "\n",
    "-Daily oil price. Includes values during both the train and test data timeframes. (Ecuador is an oil-dependent country and it's economical health is highly vulnerable to shocks in oil prices.)\n",
    "\n",
    "\n",
    "#### holidays_events.csv\n",
    "\n",
    "\n",
    "- Holidays and Events, with metadata\n",
    "- NOTE: Pay special attention to the transferred column. A holiday that is transferred officially falls on that calendar day, but was moved to another date by the government. A transferred day is more like a normal day than a holiday. To find the day that it was actually celebrated, look for the corresponding row where type is Transfer. For example, the holiday Independencia de Guayaquil was transferred from 2012-10-09 to 2012-10-12, which means it was celebrated on 2012-10-12. Days that are type Bridge are extra days that are added to a holiday (e.g., to extend the break across a long weekend). These are frequently made up by the type Work Day which is a day not normally scheduled for work (e.g., Saturday) that is meant to payback the Bridge.\n",
    "- Additional holidays are days added a regular calendar holiday, for example, as typically happens around Christmas (making Christmas Eve a holiday).\n",
    "- \n",
    "Additional Notes\n",
    "\n",
    "- Wages in the public sector are paid every two weeks on the 15 th and on the last day of the month. Supermarket sales could be affected by this.\n",
    "A magnitude 7.8 earthquake struck Ecuador on April 16, 2016. People rallied in relief efforts donating water and other first need products which greatly affected supermarket sales for several weeks after the earthquake."
   ],
   "id": "57b7e9313c8a112e"
  },
  {
   "metadata": {
    "ExecuteTime": {
     "end_time": "2025-04-11T07:46:53.015966Z",
     "start_time": "2025-04-11T07:46:52.998874Z"
    }
   },
   "cell_type": "code",
   "source": [
    "import numpy as np \n",
    "import pandas as pd \n",
    "import matplotlib as mpl\n",
    "import matplotlib.pyplot as plt\n",
    "import seaborn as sns  \n"
   ],
   "id": "2d390bb92182f0d4",
   "outputs": [],
   "execution_count": 91
  },
  {
   "metadata": {
    "ExecuteTime": {
     "end_time": "2025-04-11T07:46:53.030533Z",
     "start_time": "2025-04-11T07:46:53.028427Z"
    }
   },
   "cell_type": "code",
   "source": "import os\n",
   "id": "580bebaef5a1dad5",
   "outputs": [],
   "execution_count": 92
  },
  {
   "metadata": {
    "ExecuteTime": {
     "end_time": "2025-04-11T07:46:54.241020Z",
     "start_time": "2025-04-11T07:46:53.066131Z"
    }
   },
   "cell_type": "code",
   "source": [
    "path = './data_favorita/'\n",
    "os.listdir(path)\n",
    "\n",
    "data_oil=pd.read_csv(path+'oil.csv')\n",
    "data_holidays_events=pd.read_csv(path+'holidays_events.csv')\n",
    "data_stores=pd.read_csv(path+'stores.csv')\n",
    "data_train=pd.read_csv(path+'train.csv',parse_dates=['date'])\n",
    "#data_test=pd.read_csv(path+'test.csv',parse_dates=['date'])\n",
    "data_transactions=pd.read_csv(path+'transactions.csv')\n"
   ],
   "id": "9c23110d06500e8f",
   "outputs": [],
   "execution_count": 93
  },
  {
   "metadata": {
    "ExecuteTime": {
     "end_time": "2025-04-11T07:46:54.252775Z",
     "start_time": "2025-04-11T07:46:54.248460Z"
    }
   },
   "cell_type": "code",
   "source": "data_stores.info()",
   "id": "26049a45d8f08edf",
   "outputs": [
    {
     "name": "stdout",
     "output_type": "stream",
     "text": [
      "<class 'pandas.core.frame.DataFrame'>\n",
      "RangeIndex: 54 entries, 0 to 53\n",
      "Data columns (total 5 columns):\n",
      " #   Column     Non-Null Count  Dtype \n",
      "---  ------     --------------  ----- \n",
      " 0   store_nbr  54 non-null     int64 \n",
      " 1   city       54 non-null     object\n",
      " 2   state      54 non-null     object\n",
      " 3   type       54 non-null     object\n",
      " 4   cluster    54 non-null     int64 \n",
      "dtypes: int64(2), object(3)\n",
      "memory usage: 2.2+ KB\n"
     ]
    }
   ],
   "execution_count": 94
  },
  {
   "metadata": {
    "ExecuteTime": {
     "end_time": "2025-04-11T07:46:54.301739Z",
     "start_time": "2025-04-11T07:46:54.290427Z"
    }
   },
   "cell_type": "code",
   "source": "data_stores.describe([1/3,2/3])",
   "id": "4734c9ecb1eda1e8",
   "outputs": [
    {
     "data": {
      "text/plain": [
       "       store_nbr    cluster\n",
       "count  54.000000  54.000000\n",
       "mean   27.500000   8.481481\n",
       "std    15.732133   4.693395\n",
       "min     1.000000   1.000000\n",
       "33.3%  18.666667   6.000000\n",
       "50%    27.500000   8.500000\n",
       "66.7%  36.333333  11.000000\n",
       "max    54.000000  17.000000"
      ],
      "text/html": [
       "<div>\n",
       "<style scoped>\n",
       "    .dataframe tbody tr th:only-of-type {\n",
       "        vertical-align: middle;\n",
       "    }\n",
       "\n",
       "    .dataframe tbody tr th {\n",
       "        vertical-align: top;\n",
       "    }\n",
       "\n",
       "    .dataframe thead th {\n",
       "        text-align: right;\n",
       "    }\n",
       "</style>\n",
       "<table border=\"1\" class=\"dataframe\">\n",
       "  <thead>\n",
       "    <tr style=\"text-align: right;\">\n",
       "      <th></th>\n",
       "      <th>store_nbr</th>\n",
       "      <th>cluster</th>\n",
       "    </tr>\n",
       "  </thead>\n",
       "  <tbody>\n",
       "    <tr>\n",
       "      <th>count</th>\n",
       "      <td>54.000000</td>\n",
       "      <td>54.000000</td>\n",
       "    </tr>\n",
       "    <tr>\n",
       "      <th>mean</th>\n",
       "      <td>27.500000</td>\n",
       "      <td>8.481481</td>\n",
       "    </tr>\n",
       "    <tr>\n",
       "      <th>std</th>\n",
       "      <td>15.732133</td>\n",
       "      <td>4.693395</td>\n",
       "    </tr>\n",
       "    <tr>\n",
       "      <th>min</th>\n",
       "      <td>1.000000</td>\n",
       "      <td>1.000000</td>\n",
       "    </tr>\n",
       "    <tr>\n",
       "      <th>33.3%</th>\n",
       "      <td>18.666667</td>\n",
       "      <td>6.000000</td>\n",
       "    </tr>\n",
       "    <tr>\n",
       "      <th>50%</th>\n",
       "      <td>27.500000</td>\n",
       "      <td>8.500000</td>\n",
       "    </tr>\n",
       "    <tr>\n",
       "      <th>66.7%</th>\n",
       "      <td>36.333333</td>\n",
       "      <td>11.000000</td>\n",
       "    </tr>\n",
       "    <tr>\n",
       "      <th>max</th>\n",
       "      <td>54.000000</td>\n",
       "      <td>17.000000</td>\n",
       "    </tr>\n",
       "  </tbody>\n",
       "</table>\n",
       "</div>"
      ]
     },
     "execution_count": 95,
     "metadata": {},
     "output_type": "execute_result"
    }
   ],
   "execution_count": 95
  },
  {
   "metadata": {
    "ExecuteTime": {
     "end_time": "2025-04-11T07:46:54.373281Z",
     "start_time": "2025-04-11T07:46:54.363217Z"
    }
   },
   "cell_type": "code",
   "source": "data_stores.isnull().sum()",
   "id": "f1a63dec11f6b498",
   "outputs": [
    {
     "data": {
      "text/plain": [
       "store_nbr    0\n",
       "city         0\n",
       "state        0\n",
       "type         0\n",
       "cluster      0\n",
       "dtype: int64"
      ]
     },
     "execution_count": 96,
     "metadata": {},
     "output_type": "execute_result"
    }
   ],
   "execution_count": 96
  },
  {
   "metadata": {
    "ExecuteTime": {
     "end_time": "2025-04-11T07:46:54.494713Z",
     "start_time": "2025-04-11T07:46:54.491614Z"
    }
   },
   "cell_type": "code",
   "source": "data_stores.duplicated().sum()",
   "id": "cb794055716a38cc",
   "outputs": [
    {
     "data": {
      "text/plain": [
       "np.int64(0)"
      ]
     },
     "execution_count": 97,
     "metadata": {},
     "output_type": "execute_result"
    }
   ],
   "execution_count": 97
  },
  {
   "metadata": {
    "ExecuteTime": {
     "end_time": "2025-04-11T07:46:54.579607Z",
     "start_time": "2025-04-11T07:46:54.574898Z"
    }
   },
   "cell_type": "code",
   "source": "data_stores.head()",
   "id": "e19933a7ac521a41",
   "outputs": [
    {
     "data": {
      "text/plain": [
       "   store_nbr           city                           state type  cluster\n",
       "0          1          Quito                       Pichincha    D       13\n",
       "1          2          Quito                       Pichincha    D       13\n",
       "2          3          Quito                       Pichincha    D        8\n",
       "3          4          Quito                       Pichincha    D        9\n",
       "4          5  Santo Domingo  Santo Domingo de los Tsachilas    D        4"
      ],
      "text/html": [
       "<div>\n",
       "<style scoped>\n",
       "    .dataframe tbody tr th:only-of-type {\n",
       "        vertical-align: middle;\n",
       "    }\n",
       "\n",
       "    .dataframe tbody tr th {\n",
       "        vertical-align: top;\n",
       "    }\n",
       "\n",
       "    .dataframe thead th {\n",
       "        text-align: right;\n",
       "    }\n",
       "</style>\n",
       "<table border=\"1\" class=\"dataframe\">\n",
       "  <thead>\n",
       "    <tr style=\"text-align: right;\">\n",
       "      <th></th>\n",
       "      <th>store_nbr</th>\n",
       "      <th>city</th>\n",
       "      <th>state</th>\n",
       "      <th>type</th>\n",
       "      <th>cluster</th>\n",
       "    </tr>\n",
       "  </thead>\n",
       "  <tbody>\n",
       "    <tr>\n",
       "      <th>0</th>\n",
       "      <td>1</td>\n",
       "      <td>Quito</td>\n",
       "      <td>Pichincha</td>\n",
       "      <td>D</td>\n",
       "      <td>13</td>\n",
       "    </tr>\n",
       "    <tr>\n",
       "      <th>1</th>\n",
       "      <td>2</td>\n",
       "      <td>Quito</td>\n",
       "      <td>Pichincha</td>\n",
       "      <td>D</td>\n",
       "      <td>13</td>\n",
       "    </tr>\n",
       "    <tr>\n",
       "      <th>2</th>\n",
       "      <td>3</td>\n",
       "      <td>Quito</td>\n",
       "      <td>Pichincha</td>\n",
       "      <td>D</td>\n",
       "      <td>8</td>\n",
       "    </tr>\n",
       "    <tr>\n",
       "      <th>3</th>\n",
       "      <td>4</td>\n",
       "      <td>Quito</td>\n",
       "      <td>Pichincha</td>\n",
       "      <td>D</td>\n",
       "      <td>9</td>\n",
       "    </tr>\n",
       "    <tr>\n",
       "      <th>4</th>\n",
       "      <td>5</td>\n",
       "      <td>Santo Domingo</td>\n",
       "      <td>Santo Domingo de los Tsachilas</td>\n",
       "      <td>D</td>\n",
       "      <td>4</td>\n",
       "    </tr>\n",
       "  </tbody>\n",
       "</table>\n",
       "</div>"
      ]
     },
     "execution_count": 98,
     "metadata": {},
     "output_type": "execute_result"
    }
   ],
   "execution_count": 98
  },
  {
   "metadata": {},
   "cell_type": "markdown",
   "source": [
    "#### No duplicates and null found so this looks fairly clean in the first go\n",
    "\n",
    "#### Now lets look at the transactions data\n",
    "\n"
   ],
   "id": "a36d72c08b4f7d18"
  },
  {
   "metadata": {
    "ExecuteTime": {
     "end_time": "2025-04-11T07:46:54.648928Z",
     "start_time": "2025-04-11T07:46:54.647348Z"
    }
   },
   "cell_type": "code",
   "source": "",
   "id": "e980060d27145d79",
   "outputs": [],
   "execution_count": null
  },
  {
   "metadata": {
    "ExecuteTime": {
     "end_time": "2025-04-11T07:46:54.710236Z",
     "start_time": "2025-04-11T07:46:54.696456Z"
    }
   },
   "cell_type": "code",
   "source": "data_transactions.info()",
   "id": "f0bf08e37d9625e",
   "outputs": [
    {
     "name": "stdout",
     "output_type": "stream",
     "text": [
      "<class 'pandas.core.frame.DataFrame'>\n",
      "RangeIndex: 83488 entries, 0 to 83487\n",
      "Data columns (total 3 columns):\n",
      " #   Column        Non-Null Count  Dtype \n",
      "---  ------        --------------  ----- \n",
      " 0   date          83488 non-null  object\n",
      " 1   store_nbr     83488 non-null  int64 \n",
      " 2   transactions  83488 non-null  int64 \n",
      "dtypes: int64(2), object(1)\n",
      "memory usage: 1.9+ MB\n"
     ]
    }
   ],
   "execution_count": 99
  },
  {
   "metadata": {
    "ExecuteTime": {
     "end_time": "2025-04-11T07:46:54.759638Z",
     "start_time": "2025-04-11T07:46:54.748661Z"
    }
   },
   "cell_type": "code",
   "source": "data_transactions.duplicated().sum()",
   "id": "d803b00cce2b4464",
   "outputs": [
    {
     "data": {
      "text/plain": [
       "np.int64(0)"
      ]
     },
     "execution_count": 100,
     "metadata": {},
     "output_type": "execute_result"
    }
   ],
   "execution_count": 100
  },
  {
   "metadata": {
    "ExecuteTime": {
     "end_time": "2025-04-11T07:46:54.799454Z",
     "start_time": "2025-04-11T07:46:54.793387Z"
    }
   },
   "cell_type": "code",
   "source": "data_transactions.isnull().sum()",
   "id": "f1643ec37f55fd28",
   "outputs": [
    {
     "data": {
      "text/plain": [
       "date            0\n",
       "store_nbr       0\n",
       "transactions    0\n",
       "dtype: int64"
      ]
     },
     "execution_count": 101,
     "metadata": {},
     "output_type": "execute_result"
    }
   ],
   "execution_count": 101
  },
  {
   "metadata": {
    "ExecuteTime": {
     "end_time": "2025-04-11T07:46:54.841163Z",
     "start_time": "2025-04-11T07:46:54.832933Z"
    }
   },
   "cell_type": "code",
   "source": "data_transactions.isna().sum()",
   "id": "6bd9fb694f5de320",
   "outputs": [
    {
     "data": {
      "text/plain": [
       "date            0\n",
       "store_nbr       0\n",
       "transactions    0\n",
       "dtype: int64"
      ]
     },
     "execution_count": 102,
     "metadata": {},
     "output_type": "execute_result"
    }
   ],
   "execution_count": 102
  },
  {
   "metadata": {
    "ExecuteTime": {
     "end_time": "2025-04-11T07:46:54.895033Z",
     "start_time": "2025-04-11T07:46:54.890443Z"
    }
   },
   "cell_type": "code",
   "source": "data_transactions.head()",
   "id": "f5e93b8ccd780141",
   "outputs": [
    {
     "data": {
      "text/plain": [
       "         date  store_nbr  transactions\n",
       "0  2013-01-01         25           770\n",
       "1  2013-01-02          1          2111\n",
       "2  2013-01-02          2          2358\n",
       "3  2013-01-02          3          3487\n",
       "4  2013-01-02          4          1922"
      ],
      "text/html": [
       "<div>\n",
       "<style scoped>\n",
       "    .dataframe tbody tr th:only-of-type {\n",
       "        vertical-align: middle;\n",
       "    }\n",
       "\n",
       "    .dataframe tbody tr th {\n",
       "        vertical-align: top;\n",
       "    }\n",
       "\n",
       "    .dataframe thead th {\n",
       "        text-align: right;\n",
       "    }\n",
       "</style>\n",
       "<table border=\"1\" class=\"dataframe\">\n",
       "  <thead>\n",
       "    <tr style=\"text-align: right;\">\n",
       "      <th></th>\n",
       "      <th>date</th>\n",
       "      <th>store_nbr</th>\n",
       "      <th>transactions</th>\n",
       "    </tr>\n",
       "  </thead>\n",
       "  <tbody>\n",
       "    <tr>\n",
       "      <th>0</th>\n",
       "      <td>2013-01-01</td>\n",
       "      <td>25</td>\n",
       "      <td>770</td>\n",
       "    </tr>\n",
       "    <tr>\n",
       "      <th>1</th>\n",
       "      <td>2013-01-02</td>\n",
       "      <td>1</td>\n",
       "      <td>2111</td>\n",
       "    </tr>\n",
       "    <tr>\n",
       "      <th>2</th>\n",
       "      <td>2013-01-02</td>\n",
       "      <td>2</td>\n",
       "      <td>2358</td>\n",
       "    </tr>\n",
       "    <tr>\n",
       "      <th>3</th>\n",
       "      <td>2013-01-02</td>\n",
       "      <td>3</td>\n",
       "      <td>3487</td>\n",
       "    </tr>\n",
       "    <tr>\n",
       "      <th>4</th>\n",
       "      <td>2013-01-02</td>\n",
       "      <td>4</td>\n",
       "      <td>1922</td>\n",
       "    </tr>\n",
       "  </tbody>\n",
       "</table>\n",
       "</div>"
      ]
     },
     "execution_count": 103,
     "metadata": {},
     "output_type": "execute_result"
    }
   ],
   "execution_count": 103
  },
  {
   "metadata": {},
   "cell_type": "markdown",
   "source": "##### let us change the dtype of the date column",
   "id": "27585e103c56e2b2"
  },
  {
   "metadata": {
    "ExecuteTime": {
     "end_time": "2025-04-11T07:46:54.963310Z",
     "start_time": "2025-04-11T07:46:54.953486Z"
    }
   },
   "cell_type": "code",
   "source": [
    "try:\n",
    "\tdata_transactions[\"date\"] = pd.to_datetime(data_transactions[\"date\"], format='%Y-%m-%d')\n",
    "\tprint(\"It worked!\")\n",
    "except ValueError as e:\n",
    "\tprint(f\"ValueError for AccountOpened: {e}\")\n",
    "data_transactions[\"date\"].describe()"
   ],
   "id": "b5d51f90a6871c86",
   "outputs": [
    {
     "name": "stdout",
     "output_type": "stream",
     "text": [
      "It worked!\n"
     ]
    },
    {
     "data": {
      "text/plain": [
       "count                            83488\n",
       "mean     2015-05-20 16:07:40.866232064\n",
       "min                2013-01-01 00:00:00\n",
       "25%                2014-03-27 00:00:00\n",
       "50%                2015-06-08 00:00:00\n",
       "75%                2016-07-14 06:00:00\n",
       "max                2017-08-15 00:00:00\n",
       "Name: date, dtype: object"
      ]
     },
     "execution_count": 104,
     "metadata": {},
     "output_type": "execute_result"
    }
   ],
   "execution_count": 104
  },
  {
   "metadata": {},
   "cell_type": "markdown",
   "source": "#### Lets join the store and the transactions data\n",
   "id": "213efa228f54d6f5"
  },
  {
   "metadata": {
    "ExecuteTime": {
     "end_time": "2025-04-11T07:46:55.028577Z",
     "start_time": "2025-04-11T07:46:55.021466Z"
    }
   },
   "cell_type": "code",
   "source": "data_transactions_stores=data_transactions.merge(data_stores,on='store_nbr',how='left')",
   "id": "afb9185a9c0ff63a",
   "outputs": [],
   "execution_count": 105
  },
  {
   "metadata": {
    "ExecuteTime": {
     "end_time": "2025-04-11T07:46:55.068060Z",
     "start_time": "2025-04-11T07:46:55.063667Z"
    }
   },
   "cell_type": "code",
   "source": "data_transactions_stores.head()",
   "id": "356987e450ed1c43",
   "outputs": [
    {
     "data": {
      "text/plain": [
       "        date  store_nbr  transactions     city        state type  cluster\n",
       "0 2013-01-01         25           770  Salinas  Santa Elena    D        1\n",
       "1 2013-01-02          1          2111    Quito    Pichincha    D       13\n",
       "2 2013-01-02          2          2358    Quito    Pichincha    D       13\n",
       "3 2013-01-02          3          3487    Quito    Pichincha    D        8\n",
       "4 2013-01-02          4          1922    Quito    Pichincha    D        9"
      ],
      "text/html": [
       "<div>\n",
       "<style scoped>\n",
       "    .dataframe tbody tr th:only-of-type {\n",
       "        vertical-align: middle;\n",
       "    }\n",
       "\n",
       "    .dataframe tbody tr th {\n",
       "        vertical-align: top;\n",
       "    }\n",
       "\n",
       "    .dataframe thead th {\n",
       "        text-align: right;\n",
       "    }\n",
       "</style>\n",
       "<table border=\"1\" class=\"dataframe\">\n",
       "  <thead>\n",
       "    <tr style=\"text-align: right;\">\n",
       "      <th></th>\n",
       "      <th>date</th>\n",
       "      <th>store_nbr</th>\n",
       "      <th>transactions</th>\n",
       "      <th>city</th>\n",
       "      <th>state</th>\n",
       "      <th>type</th>\n",
       "      <th>cluster</th>\n",
       "    </tr>\n",
       "  </thead>\n",
       "  <tbody>\n",
       "    <tr>\n",
       "      <th>0</th>\n",
       "      <td>2013-01-01</td>\n",
       "      <td>25</td>\n",
       "      <td>770</td>\n",
       "      <td>Salinas</td>\n",
       "      <td>Santa Elena</td>\n",
       "      <td>D</td>\n",
       "      <td>1</td>\n",
       "    </tr>\n",
       "    <tr>\n",
       "      <th>1</th>\n",
       "      <td>2013-01-02</td>\n",
       "      <td>1</td>\n",
       "      <td>2111</td>\n",
       "      <td>Quito</td>\n",
       "      <td>Pichincha</td>\n",
       "      <td>D</td>\n",
       "      <td>13</td>\n",
       "    </tr>\n",
       "    <tr>\n",
       "      <th>2</th>\n",
       "      <td>2013-01-02</td>\n",
       "      <td>2</td>\n",
       "      <td>2358</td>\n",
       "      <td>Quito</td>\n",
       "      <td>Pichincha</td>\n",
       "      <td>D</td>\n",
       "      <td>13</td>\n",
       "    </tr>\n",
       "    <tr>\n",
       "      <th>3</th>\n",
       "      <td>2013-01-02</td>\n",
       "      <td>3</td>\n",
       "      <td>3487</td>\n",
       "      <td>Quito</td>\n",
       "      <td>Pichincha</td>\n",
       "      <td>D</td>\n",
       "      <td>8</td>\n",
       "    </tr>\n",
       "    <tr>\n",
       "      <th>4</th>\n",
       "      <td>2013-01-02</td>\n",
       "      <td>4</td>\n",
       "      <td>1922</td>\n",
       "      <td>Quito</td>\n",
       "      <td>Pichincha</td>\n",
       "      <td>D</td>\n",
       "      <td>9</td>\n",
       "    </tr>\n",
       "  </tbody>\n",
       "</table>\n",
       "</div>"
      ]
     },
     "execution_count": 106,
     "metadata": {},
     "output_type": "execute_result"
    }
   ],
   "execution_count": 106
  },
  {
   "metadata": {},
   "cell_type": "markdown",
   "source": "#### Now lets look at the holidays and events data",
   "id": "f64672f4393058f9"
  },
  {
   "metadata": {
    "ExecuteTime": {
     "end_time": "2025-04-11T07:46:55.112286Z",
     "start_time": "2025-04-11T07:46:55.108970Z"
    }
   },
   "cell_type": "code",
   "source": "data_holidays_events.info()",
   "id": "e27da21bc1241b3b",
   "outputs": [
    {
     "name": "stdout",
     "output_type": "stream",
     "text": [
      "<class 'pandas.core.frame.DataFrame'>\n",
      "RangeIndex: 350 entries, 0 to 349\n",
      "Data columns (total 6 columns):\n",
      " #   Column       Non-Null Count  Dtype \n",
      "---  ------       --------------  ----- \n",
      " 0   date         350 non-null    object\n",
      " 1   type         350 non-null    object\n",
      " 2   locale       350 non-null    object\n",
      " 3   locale_name  350 non-null    object\n",
      " 4   description  350 non-null    object\n",
      " 5   transferred  350 non-null    bool  \n",
      "dtypes: bool(1), object(5)\n",
      "memory usage: 14.1+ KB\n"
     ]
    }
   ],
   "execution_count": 107
  },
  {
   "metadata": {
    "ExecuteTime": {
     "end_time": "2025-04-11T07:46:55.178883Z",
     "start_time": "2025-04-11T07:46:55.175098Z"
    }
   },
   "cell_type": "code",
   "source": [
    "try:\n",
    "\tdata_holidays_events[\"date\"] = pd.to_datetime(data_holidays_events[\"date\"], format='%Y-%m-%d')\n",
    "\tprint(\"It worked!\")\n",
    "except ValueError as e:\n",
    "\tprint(f\"ValueError for AccountOpened: {e}\")\n",
    "data_holidays_events[\"date\"].describe()"
   ],
   "id": "d73ce68c2db8d7df",
   "outputs": [
    {
     "name": "stdout",
     "output_type": "stream",
     "text": [
      "It worked!\n"
     ]
    },
    {
     "data": {
      "text/plain": [
       "count                              350\n",
       "mean     2015-04-24 00:45:15.428571392\n",
       "min                2012-03-02 00:00:00\n",
       "25%                2013-12-23 06:00:00\n",
       "50%                2015-06-08 00:00:00\n",
       "75%                2016-07-03 00:00:00\n",
       "max                2017-12-26 00:00:00\n",
       "Name: date, dtype: object"
      ]
     },
     "execution_count": 108,
     "metadata": {},
     "output_type": "execute_result"
    }
   ],
   "execution_count": 108
  },
  {
   "metadata": {
    "ExecuteTime": {
     "end_time": "2025-04-11T07:46:55.239120Z",
     "start_time": "2025-04-11T07:46:55.234666Z"
    }
   },
   "cell_type": "code",
   "source": "data_holidays_events.describe()",
   "id": "735721fc37f5801a",
   "outputs": [
    {
     "data": {
      "text/plain": [
       "                                date\n",
       "count                            350\n",
       "mean   2015-04-24 00:45:15.428571392\n",
       "min              2012-03-02 00:00:00\n",
       "25%              2013-12-23 06:00:00\n",
       "50%              2015-06-08 00:00:00\n",
       "75%              2016-07-03 00:00:00\n",
       "max              2017-12-26 00:00:00"
      ],
      "text/html": [
       "<div>\n",
       "<style scoped>\n",
       "    .dataframe tbody tr th:only-of-type {\n",
       "        vertical-align: middle;\n",
       "    }\n",
       "\n",
       "    .dataframe tbody tr th {\n",
       "        vertical-align: top;\n",
       "    }\n",
       "\n",
       "    .dataframe thead th {\n",
       "        text-align: right;\n",
       "    }\n",
       "</style>\n",
       "<table border=\"1\" class=\"dataframe\">\n",
       "  <thead>\n",
       "    <tr style=\"text-align: right;\">\n",
       "      <th></th>\n",
       "      <th>date</th>\n",
       "    </tr>\n",
       "  </thead>\n",
       "  <tbody>\n",
       "    <tr>\n",
       "      <th>count</th>\n",
       "      <td>350</td>\n",
       "    </tr>\n",
       "    <tr>\n",
       "      <th>mean</th>\n",
       "      <td>2015-04-24 00:45:15.428571392</td>\n",
       "    </tr>\n",
       "    <tr>\n",
       "      <th>min</th>\n",
       "      <td>2012-03-02 00:00:00</td>\n",
       "    </tr>\n",
       "    <tr>\n",
       "      <th>25%</th>\n",
       "      <td>2013-12-23 06:00:00</td>\n",
       "    </tr>\n",
       "    <tr>\n",
       "      <th>50%</th>\n",
       "      <td>2015-06-08 00:00:00</td>\n",
       "    </tr>\n",
       "    <tr>\n",
       "      <th>75%</th>\n",
       "      <td>2016-07-03 00:00:00</td>\n",
       "    </tr>\n",
       "    <tr>\n",
       "      <th>max</th>\n",
       "      <td>2017-12-26 00:00:00</td>\n",
       "    </tr>\n",
       "  </tbody>\n",
       "</table>\n",
       "</div>"
      ]
     },
     "execution_count": 109,
     "metadata": {},
     "output_type": "execute_result"
    }
   ],
   "execution_count": 109
  },
  {
   "metadata": {
    "ExecuteTime": {
     "end_time": "2025-04-11T07:46:55.295645Z",
     "start_time": "2025-04-11T07:46:55.292833Z"
    }
   },
   "cell_type": "code",
   "source": "data_holidays_events.isnull().sum()",
   "id": "b19ab83be4d84e7f",
   "outputs": [
    {
     "data": {
      "text/plain": [
       "date           0\n",
       "type           0\n",
       "locale         0\n",
       "locale_name    0\n",
       "description    0\n",
       "transferred    0\n",
       "dtype: int64"
      ]
     },
     "execution_count": 110,
     "metadata": {},
     "output_type": "execute_result"
    }
   ],
   "execution_count": 110
  },
  {
   "metadata": {
    "ExecuteTime": {
     "end_time": "2025-04-11T07:46:55.428571Z",
     "start_time": "2025-04-11T07:46:55.425798Z"
    }
   },
   "cell_type": "code",
   "source": "data_holidays_events.duplicated().sum()",
   "id": "8a09a5ec3a8306e4",
   "outputs": [
    {
     "data": {
      "text/plain": [
       "np.int64(0)"
      ]
     },
     "execution_count": 111,
     "metadata": {},
     "output_type": "execute_result"
    }
   ],
   "execution_count": 111
  },
  {
   "metadata": {
    "ExecuteTime": {
     "end_time": "2025-04-11T07:46:55.453490Z",
     "start_time": "2025-04-11T07:46:55.449925Z"
    }
   },
   "cell_type": "code",
   "source": "data_holidays_events.isna().sum()",
   "id": "7dcd88674d56080",
   "outputs": [
    {
     "data": {
      "text/plain": [
       "date           0\n",
       "type           0\n",
       "locale         0\n",
       "locale_name    0\n",
       "description    0\n",
       "transferred    0\n",
       "dtype: int64"
      ]
     },
     "execution_count": 112,
     "metadata": {},
     "output_type": "execute_result"
    }
   ],
   "execution_count": 112
  },
  {
   "metadata": {
    "ExecuteTime": {
     "end_time": "2025-04-11T07:46:55.499670Z",
     "start_time": "2025-04-11T07:46:55.494405Z"
    }
   },
   "cell_type": "code",
   "source": "data_holidays_events.head()",
   "id": "426a6824530535c3",
   "outputs": [
    {
     "data": {
      "text/plain": [
       "        date     type    locale locale_name                    description  \\\n",
       "0 2012-03-02  Holiday     Local       Manta             Fundacion de Manta   \n",
       "1 2012-04-01  Holiday  Regional    Cotopaxi  Provincializacion de Cotopaxi   \n",
       "2 2012-04-12  Holiday     Local      Cuenca            Fundacion de Cuenca   \n",
       "3 2012-04-14  Holiday     Local    Libertad      Cantonizacion de Libertad   \n",
       "4 2012-04-21  Holiday     Local    Riobamba      Cantonizacion de Riobamba   \n",
       "\n",
       "   transferred  \n",
       "0        False  \n",
       "1        False  \n",
       "2        False  \n",
       "3        False  \n",
       "4        False  "
      ],
      "text/html": [
       "<div>\n",
       "<style scoped>\n",
       "    .dataframe tbody tr th:only-of-type {\n",
       "        vertical-align: middle;\n",
       "    }\n",
       "\n",
       "    .dataframe tbody tr th {\n",
       "        vertical-align: top;\n",
       "    }\n",
       "\n",
       "    .dataframe thead th {\n",
       "        text-align: right;\n",
       "    }\n",
       "</style>\n",
       "<table border=\"1\" class=\"dataframe\">\n",
       "  <thead>\n",
       "    <tr style=\"text-align: right;\">\n",
       "      <th></th>\n",
       "      <th>date</th>\n",
       "      <th>type</th>\n",
       "      <th>locale</th>\n",
       "      <th>locale_name</th>\n",
       "      <th>description</th>\n",
       "      <th>transferred</th>\n",
       "    </tr>\n",
       "  </thead>\n",
       "  <tbody>\n",
       "    <tr>\n",
       "      <th>0</th>\n",
       "      <td>2012-03-02</td>\n",
       "      <td>Holiday</td>\n",
       "      <td>Local</td>\n",
       "      <td>Manta</td>\n",
       "      <td>Fundacion de Manta</td>\n",
       "      <td>False</td>\n",
       "    </tr>\n",
       "    <tr>\n",
       "      <th>1</th>\n",
       "      <td>2012-04-01</td>\n",
       "      <td>Holiday</td>\n",
       "      <td>Regional</td>\n",
       "      <td>Cotopaxi</td>\n",
       "      <td>Provincializacion de Cotopaxi</td>\n",
       "      <td>False</td>\n",
       "    </tr>\n",
       "    <tr>\n",
       "      <th>2</th>\n",
       "      <td>2012-04-12</td>\n",
       "      <td>Holiday</td>\n",
       "      <td>Local</td>\n",
       "      <td>Cuenca</td>\n",
       "      <td>Fundacion de Cuenca</td>\n",
       "      <td>False</td>\n",
       "    </tr>\n",
       "    <tr>\n",
       "      <th>3</th>\n",
       "      <td>2012-04-14</td>\n",
       "      <td>Holiday</td>\n",
       "      <td>Local</td>\n",
       "      <td>Libertad</td>\n",
       "      <td>Cantonizacion de Libertad</td>\n",
       "      <td>False</td>\n",
       "    </tr>\n",
       "    <tr>\n",
       "      <th>4</th>\n",
       "      <td>2012-04-21</td>\n",
       "      <td>Holiday</td>\n",
       "      <td>Local</td>\n",
       "      <td>Riobamba</td>\n",
       "      <td>Cantonizacion de Riobamba</td>\n",
       "      <td>False</td>\n",
       "    </tr>\n",
       "  </tbody>\n",
       "</table>\n",
       "</div>"
      ]
     },
     "execution_count": 113,
     "metadata": {},
     "output_type": "execute_result"
    }
   ],
   "execution_count": 113
  },
  {
   "metadata": {},
   "cell_type": "markdown",
   "source": "#### Now lets look at the oil data",
   "id": "18d7bddf7ffdc099"
  },
  {
   "metadata": {
    "ExecuteTime": {
     "end_time": "2025-04-11T07:46:55.551726Z",
     "start_time": "2025-04-11T07:46:55.548388Z"
    }
   },
   "cell_type": "code",
   "source": "data_oil.info()",
   "id": "e9a01d88531036e0",
   "outputs": [
    {
     "name": "stdout",
     "output_type": "stream",
     "text": [
      "<class 'pandas.core.frame.DataFrame'>\n",
      "RangeIndex: 1218 entries, 0 to 1217\n",
      "Data columns (total 2 columns):\n",
      " #   Column      Non-Null Count  Dtype  \n",
      "---  ------      --------------  -----  \n",
      " 0   date        1218 non-null   object \n",
      " 1   dcoilwtico  1175 non-null   float64\n",
      "dtypes: float64(1), object(1)\n",
      "memory usage: 19.2+ KB\n"
     ]
    }
   ],
   "execution_count": 114
  },
  {
   "metadata": {
    "ExecuteTime": {
     "end_time": "2025-04-11T07:46:55.596383Z",
     "start_time": "2025-04-11T07:46:55.592201Z"
    }
   },
   "cell_type": "code",
   "source": "data_oil.describe()",
   "id": "582124c05040487a",
   "outputs": [
    {
     "data": {
      "text/plain": [
       "        dcoilwtico\n",
       "count  1175.000000\n",
       "mean     67.714366\n",
       "std      25.630476\n",
       "min      26.190000\n",
       "25%      46.405000\n",
       "50%      53.190000\n",
       "75%      95.660000\n",
       "max     110.620000"
      ],
      "text/html": [
       "<div>\n",
       "<style scoped>\n",
       "    .dataframe tbody tr th:only-of-type {\n",
       "        vertical-align: middle;\n",
       "    }\n",
       "\n",
       "    .dataframe tbody tr th {\n",
       "        vertical-align: top;\n",
       "    }\n",
       "\n",
       "    .dataframe thead th {\n",
       "        text-align: right;\n",
       "    }\n",
       "</style>\n",
       "<table border=\"1\" class=\"dataframe\">\n",
       "  <thead>\n",
       "    <tr style=\"text-align: right;\">\n",
       "      <th></th>\n",
       "      <th>dcoilwtico</th>\n",
       "    </tr>\n",
       "  </thead>\n",
       "  <tbody>\n",
       "    <tr>\n",
       "      <th>count</th>\n",
       "      <td>1175.000000</td>\n",
       "    </tr>\n",
       "    <tr>\n",
       "      <th>mean</th>\n",
       "      <td>67.714366</td>\n",
       "    </tr>\n",
       "    <tr>\n",
       "      <th>std</th>\n",
       "      <td>25.630476</td>\n",
       "    </tr>\n",
       "    <tr>\n",
       "      <th>min</th>\n",
       "      <td>26.190000</td>\n",
       "    </tr>\n",
       "    <tr>\n",
       "      <th>25%</th>\n",
       "      <td>46.405000</td>\n",
       "    </tr>\n",
       "    <tr>\n",
       "      <th>50%</th>\n",
       "      <td>53.190000</td>\n",
       "    </tr>\n",
       "    <tr>\n",
       "      <th>75%</th>\n",
       "      <td>95.660000</td>\n",
       "    </tr>\n",
       "    <tr>\n",
       "      <th>max</th>\n",
       "      <td>110.620000</td>\n",
       "    </tr>\n",
       "  </tbody>\n",
       "</table>\n",
       "</div>"
      ]
     },
     "execution_count": 115,
     "metadata": {},
     "output_type": "execute_result"
    }
   ],
   "execution_count": 115
  },
  {
   "metadata": {
    "ExecuteTime": {
     "end_time": "2025-04-11T07:46:55.645518Z",
     "start_time": "2025-04-11T07:46:55.642007Z"
    }
   },
   "cell_type": "code",
   "source": "data_oil.isnull().sum()",
   "id": "c6ac69df4616a5e1",
   "outputs": [
    {
     "data": {
      "text/plain": [
       "date           0\n",
       "dcoilwtico    43\n",
       "dtype: int64"
      ]
     },
     "execution_count": 116,
     "metadata": {},
     "output_type": "execute_result"
    }
   ],
   "execution_count": 116
  },
  {
   "metadata": {},
   "cell_type": "markdown",
   "source": "#### So oIl data has null data and will need cleaning or imputation.Lets analyze the oil file further\n",
   "id": "42df309b26d16b3f"
  },
  {
   "metadata": {
    "ExecuteTime": {
     "end_time": "2025-04-11T07:46:55.696962Z",
     "start_time": "2025-04-11T07:46:55.693331Z"
    }
   },
   "cell_type": "code",
   "source": "data_oil.head()",
   "id": "5f7e7b8907fcdf1d",
   "outputs": [
    {
     "data": {
      "text/plain": [
       "         date  dcoilwtico\n",
       "0  2013-01-01         NaN\n",
       "1  2013-01-02       93.14\n",
       "2  2013-01-03       92.97\n",
       "3  2013-01-04       93.12\n",
       "4  2013-01-07       93.20"
      ],
      "text/html": [
       "<div>\n",
       "<style scoped>\n",
       "    .dataframe tbody tr th:only-of-type {\n",
       "        vertical-align: middle;\n",
       "    }\n",
       "\n",
       "    .dataframe tbody tr th {\n",
       "        vertical-align: top;\n",
       "    }\n",
       "\n",
       "    .dataframe thead th {\n",
       "        text-align: right;\n",
       "    }\n",
       "</style>\n",
       "<table border=\"1\" class=\"dataframe\">\n",
       "  <thead>\n",
       "    <tr style=\"text-align: right;\">\n",
       "      <th></th>\n",
       "      <th>date</th>\n",
       "      <th>dcoilwtico</th>\n",
       "    </tr>\n",
       "  </thead>\n",
       "  <tbody>\n",
       "    <tr>\n",
       "      <th>0</th>\n",
       "      <td>2013-01-01</td>\n",
       "      <td>NaN</td>\n",
       "    </tr>\n",
       "    <tr>\n",
       "      <th>1</th>\n",
       "      <td>2013-01-02</td>\n",
       "      <td>93.14</td>\n",
       "    </tr>\n",
       "    <tr>\n",
       "      <th>2</th>\n",
       "      <td>2013-01-03</td>\n",
       "      <td>92.97</td>\n",
       "    </tr>\n",
       "    <tr>\n",
       "      <th>3</th>\n",
       "      <td>2013-01-04</td>\n",
       "      <td>93.12</td>\n",
       "    </tr>\n",
       "    <tr>\n",
       "      <th>4</th>\n",
       "      <td>2013-01-07</td>\n",
       "      <td>93.20</td>\n",
       "    </tr>\n",
       "  </tbody>\n",
       "</table>\n",
       "</div>"
      ]
     },
     "execution_count": 117,
     "metadata": {},
     "output_type": "execute_result"
    }
   ],
   "execution_count": 117
  },
  {
   "metadata": {},
   "cell_type": "markdown",
   "source": "Let us change teh date to date time64 object type",
   "id": "206f4dfc5fed5d6e"
  },
  {
   "metadata": {
    "ExecuteTime": {
     "end_time": "2025-04-11T07:46:55.752716Z",
     "start_time": "2025-04-11T07:46:55.746545Z"
    }
   },
   "cell_type": "code",
   "source": [
    "try:\n",
    "\tdata_oil[\"date\"] = pd.to_datetime(data_oil[\"date\"], format='%Y-%m-%d')\n",
    "\tprint(\"It worked!\")\n",
    "except ValueError as e:\n",
    "\tprint(f\"ValueError for AccountOpened: {e}\")\n",
    "data_oil[\"date\"].describe()\n"
   ],
   "id": "9622693b31e1900d",
   "outputs": [
    {
     "name": "stdout",
     "output_type": "stream",
     "text": [
      "It worked!\n"
     ]
    },
    {
     "data": {
      "text/plain": [
       "count                   1218\n",
       "mean     2015-05-02 12:00:00\n",
       "min      2013-01-01 00:00:00\n",
       "25%      2014-03-03 06:00:00\n",
       "50%      2015-05-02 12:00:00\n",
       "75%      2016-06-30 18:00:00\n",
       "max      2017-08-31 00:00:00\n",
       "Name: date, dtype: object"
      ]
     },
     "execution_count": 118,
     "metadata": {},
     "output_type": "execute_result"
    }
   ],
   "execution_count": 118
  },
  {
   "metadata": {
    "ExecuteTime": {
     "end_time": "2025-04-11T07:46:55.864306Z",
     "start_time": "2025-04-11T07:46:55.861074Z"
    }
   },
   "cell_type": "code",
   "source": [
    "# Impute missing oil prices with the price from the previous row\n",
    "#data_oil['dcoilwtico'].fillna(method='ffill', inplace=True)\n",
    "data_oil[\"dcoilwtico\"].ffill()"
   ],
   "id": "b10485ca383ae888",
   "outputs": [
    {
     "data": {
      "text/plain": [
       "0         NaN\n",
       "1       93.14\n",
       "2       92.97\n",
       "3       93.12\n",
       "4       93.20\n",
       "        ...  \n",
       "1213    47.65\n",
       "1214    46.40\n",
       "1215    46.46\n",
       "1216    45.96\n",
       "1217    47.26\n",
       "Name: dcoilwtico, Length: 1218, dtype: float64"
      ]
     },
     "execution_count": 119,
     "metadata": {},
     "output_type": "execute_result"
    }
   ],
   "execution_count": 119
  },
  {
   "metadata": {
    "ExecuteTime": {
     "end_time": "2025-04-11T07:46:55.937754Z",
     "start_time": "2025-04-11T07:46:55.935070Z"
    }
   },
   "cell_type": "code",
   "source": "data_oil.duplicated().sum()",
   "id": "ffa5ef44f38fba4d",
   "outputs": [
    {
     "data": {
      "text/plain": [
       "np.int64(0)"
      ]
     },
     "execution_count": 120,
     "metadata": {},
     "output_type": "execute_result"
    }
   ],
   "execution_count": 120
  },
  {
   "metadata": {
    "ExecuteTime": {
     "end_time": "2025-04-11T07:46:55.991936Z",
     "start_time": "2025-04-11T07:46:55.988955Z"
    }
   },
   "cell_type": "code",
   "source": "data_oil.isnull().sum()",
   "id": "ecacf67f38916f73",
   "outputs": [
    {
     "data": {
      "text/plain": [
       "date           0\n",
       "dcoilwtico    43\n",
       "dtype: int64"
      ]
     },
     "execution_count": 121,
     "metadata": {},
     "output_type": "execute_result"
    }
   ],
   "execution_count": 121
  },
  {
   "metadata": {
    "ExecuteTime": {
     "end_time": "2025-04-11T07:46:56.033335Z",
     "start_time": "2025-04-11T07:46:56.030849Z"
    }
   },
   "cell_type": "code",
   "source": [
    "mean_price = data_oil['dcoilwtico'].mean()\n",
    "#data_oil['dcoilwtico'].fillna(mean_price, inplace=True)\n",
    "data_oil.fillna({'dcoilwtico': mean_price}, inplace=True)\n"
   ],
   "id": "a4b85fc25a336f0e",
   "outputs": [],
   "execution_count": 122
  },
  {
   "metadata": {
    "ExecuteTime": {
     "end_time": "2025-04-11T07:46:56.076700Z",
     "start_time": "2025-04-11T07:46:56.073234Z"
    }
   },
   "cell_type": "code",
   "source": "data_oil.isnull().sum()",
   "id": "1f1426234522695a",
   "outputs": [
    {
     "data": {
      "text/plain": [
       "date          0\n",
       "dcoilwtico    0\n",
       "dtype: int64"
      ]
     },
     "execution_count": 123,
     "metadata": {},
     "output_type": "execute_result"
    }
   ],
   "execution_count": 123
  },
  {
   "metadata": {},
   "cell_type": "markdown",
   "source": "#### so oil data doesnt have any duplicate values and there are no more null values and the date is converted to datetime64 which will et us do mathmatical operations on it",
   "id": "8c325b5a9cc499c2"
  },
  {
   "metadata": {},
   "cell_type": "markdown",
   "source": "#### Let us now look at the train data\n",
   "id": "f211de1f4d21bed7"
  },
  {
   "metadata": {
    "ExecuteTime": {
     "end_time": "2025-04-11T07:46:56.119235Z",
     "start_time": "2025-04-11T07:46:56.115292Z"
    }
   },
   "cell_type": "code",
   "source": "data_train.info()",
   "id": "b3331cadb3d4b5bc",
   "outputs": [
    {
     "name": "stdout",
     "output_type": "stream",
     "text": [
      "<class 'pandas.core.frame.DataFrame'>\n",
      "RangeIndex: 3000888 entries, 0 to 3000887\n",
      "Data columns (total 6 columns):\n",
      " #   Column       Dtype         \n",
      "---  ------       -----         \n",
      " 0   id           int64         \n",
      " 1   date         datetime64[ns]\n",
      " 2   store_nbr    int64         \n",
      " 3   family       object        \n",
      " 4   sales        float64       \n",
      " 5   onpromotion  int64         \n",
      "dtypes: datetime64[ns](1), float64(1), int64(3), object(1)\n",
      "memory usage: 137.4+ MB\n"
     ]
    }
   ],
   "execution_count": 124
  },
  {
   "metadata": {
    "ExecuteTime": {
     "end_time": "2025-04-11T07:46:56.414067Z",
     "start_time": "2025-04-11T07:46:56.170219Z"
    }
   },
   "cell_type": "code",
   "source": "data_train.describe()",
   "id": "315ebb15b5d58d85",
   "outputs": [
    {
     "data": {
      "text/plain": [
       "                 id                           date     store_nbr  \\\n",
       "count  3.000888e+06                        3000888  3.000888e+06   \n",
       "mean   1.500444e+06  2015-04-24 08:27:04.703088384  2.750000e+01   \n",
       "min    0.000000e+00            2013-01-01 00:00:00  1.000000e+00   \n",
       "25%    7.502218e+05            2014-02-26 18:00:00  1.400000e+01   \n",
       "50%    1.500444e+06            2015-04-24 12:00:00  2.750000e+01   \n",
       "75%    2.250665e+06            2016-06-19 06:00:00  4.100000e+01   \n",
       "max    3.000887e+06            2017-08-15 00:00:00  5.400000e+01   \n",
       "std    8.662819e+05                            NaN  1.558579e+01   \n",
       "\n",
       "              sales   onpromotion  \n",
       "count  3.000888e+06  3.000888e+06  \n",
       "mean   3.577757e+02  2.602770e+00  \n",
       "min    0.000000e+00  0.000000e+00  \n",
       "25%    0.000000e+00  0.000000e+00  \n",
       "50%    1.100000e+01  0.000000e+00  \n",
       "75%    1.958473e+02  0.000000e+00  \n",
       "max    1.247170e+05  7.410000e+02  \n",
       "std    1.101998e+03  1.221888e+01  "
      ],
      "text/html": [
       "<div>\n",
       "<style scoped>\n",
       "    .dataframe tbody tr th:only-of-type {\n",
       "        vertical-align: middle;\n",
       "    }\n",
       "\n",
       "    .dataframe tbody tr th {\n",
       "        vertical-align: top;\n",
       "    }\n",
       "\n",
       "    .dataframe thead th {\n",
       "        text-align: right;\n",
       "    }\n",
       "</style>\n",
       "<table border=\"1\" class=\"dataframe\">\n",
       "  <thead>\n",
       "    <tr style=\"text-align: right;\">\n",
       "      <th></th>\n",
       "      <th>id</th>\n",
       "      <th>date</th>\n",
       "      <th>store_nbr</th>\n",
       "      <th>sales</th>\n",
       "      <th>onpromotion</th>\n",
       "    </tr>\n",
       "  </thead>\n",
       "  <tbody>\n",
       "    <tr>\n",
       "      <th>count</th>\n",
       "      <td>3.000888e+06</td>\n",
       "      <td>3000888</td>\n",
       "      <td>3.000888e+06</td>\n",
       "      <td>3.000888e+06</td>\n",
       "      <td>3.000888e+06</td>\n",
       "    </tr>\n",
       "    <tr>\n",
       "      <th>mean</th>\n",
       "      <td>1.500444e+06</td>\n",
       "      <td>2015-04-24 08:27:04.703088384</td>\n",
       "      <td>2.750000e+01</td>\n",
       "      <td>3.577757e+02</td>\n",
       "      <td>2.602770e+00</td>\n",
       "    </tr>\n",
       "    <tr>\n",
       "      <th>min</th>\n",
       "      <td>0.000000e+00</td>\n",
       "      <td>2013-01-01 00:00:00</td>\n",
       "      <td>1.000000e+00</td>\n",
       "      <td>0.000000e+00</td>\n",
       "      <td>0.000000e+00</td>\n",
       "    </tr>\n",
       "    <tr>\n",
       "      <th>25%</th>\n",
       "      <td>7.502218e+05</td>\n",
       "      <td>2014-02-26 18:00:00</td>\n",
       "      <td>1.400000e+01</td>\n",
       "      <td>0.000000e+00</td>\n",
       "      <td>0.000000e+00</td>\n",
       "    </tr>\n",
       "    <tr>\n",
       "      <th>50%</th>\n",
       "      <td>1.500444e+06</td>\n",
       "      <td>2015-04-24 12:00:00</td>\n",
       "      <td>2.750000e+01</td>\n",
       "      <td>1.100000e+01</td>\n",
       "      <td>0.000000e+00</td>\n",
       "    </tr>\n",
       "    <tr>\n",
       "      <th>75%</th>\n",
       "      <td>2.250665e+06</td>\n",
       "      <td>2016-06-19 06:00:00</td>\n",
       "      <td>4.100000e+01</td>\n",
       "      <td>1.958473e+02</td>\n",
       "      <td>0.000000e+00</td>\n",
       "    </tr>\n",
       "    <tr>\n",
       "      <th>max</th>\n",
       "      <td>3.000887e+06</td>\n",
       "      <td>2017-08-15 00:00:00</td>\n",
       "      <td>5.400000e+01</td>\n",
       "      <td>1.247170e+05</td>\n",
       "      <td>7.410000e+02</td>\n",
       "    </tr>\n",
       "    <tr>\n",
       "      <th>std</th>\n",
       "      <td>8.662819e+05</td>\n",
       "      <td>NaN</td>\n",
       "      <td>1.558579e+01</td>\n",
       "      <td>1.101998e+03</td>\n",
       "      <td>1.221888e+01</td>\n",
       "    </tr>\n",
       "  </tbody>\n",
       "</table>\n",
       "</div>"
      ]
     },
     "execution_count": 125,
     "metadata": {},
     "output_type": "execute_result"
    }
   ],
   "execution_count": 125
  },
  {
   "metadata": {
    "ExecuteTime": {
     "end_time": "2025-04-11T07:46:56.505432Z",
     "start_time": "2025-04-11T07:46:56.434116Z"
    }
   },
   "cell_type": "code",
   "source": "data_train.isnull().sum()",
   "id": "4d6f5cfbae059ef8",
   "outputs": [
    {
     "data": {
      "text/plain": [
       "id             0\n",
       "date           0\n",
       "store_nbr      0\n",
       "family         0\n",
       "sales          0\n",
       "onpromotion    0\n",
       "dtype: int64"
      ]
     },
     "execution_count": 126,
     "metadata": {},
     "output_type": "execute_result"
    }
   ],
   "execution_count": 126
  },
  {
   "metadata": {
    "ExecuteTime": {
     "end_time": "2025-04-11T07:46:57.002294Z",
     "start_time": "2025-04-11T07:46:56.537321Z"
    }
   },
   "cell_type": "code",
   "source": "data_train.duplicated().sum()",
   "id": "2aedace37512f062",
   "outputs": [
    {
     "data": {
      "text/plain": [
       "np.int64(0)"
      ]
     },
     "execution_count": 127,
     "metadata": {},
     "output_type": "execute_result"
    }
   ],
   "execution_count": 127
  },
  {
   "metadata": {
    "ExecuteTime": {
     "end_time": "2025-04-11T07:46:57.031525Z",
     "start_time": "2025-04-11T07:46:57.022717Z"
    }
   },
   "cell_type": "code",
   "source": "data_train.head(20)",
   "id": "33f598149daca6",
   "outputs": [
    {
     "data": {
      "text/plain": [
       "    id       date  store_nbr               family  sales  onpromotion\n",
       "0    0 2013-01-01          1           AUTOMOTIVE    0.0            0\n",
       "1    1 2013-01-01          1            BABY CARE    0.0            0\n",
       "2    2 2013-01-01          1               BEAUTY    0.0            0\n",
       "3    3 2013-01-01          1            BEVERAGES    0.0            0\n",
       "4    4 2013-01-01          1                BOOKS    0.0            0\n",
       "5    5 2013-01-01          1         BREAD/BAKERY    0.0            0\n",
       "6    6 2013-01-01          1          CELEBRATION    0.0            0\n",
       "7    7 2013-01-01          1             CLEANING    0.0            0\n",
       "8    8 2013-01-01          1                DAIRY    0.0            0\n",
       "9    9 2013-01-01          1                 DELI    0.0            0\n",
       "10  10 2013-01-01          1                 EGGS    0.0            0\n",
       "11  11 2013-01-01          1         FROZEN FOODS    0.0            0\n",
       "12  12 2013-01-01          1            GROCERY I    0.0            0\n",
       "13  13 2013-01-01          1           GROCERY II    0.0            0\n",
       "14  14 2013-01-01          1             HARDWARE    0.0            0\n",
       "15  15 2013-01-01          1   HOME AND KITCHEN I    0.0            0\n",
       "16  16 2013-01-01          1  HOME AND KITCHEN II    0.0            0\n",
       "17  17 2013-01-01          1      HOME APPLIANCES    0.0            0\n",
       "18  18 2013-01-01          1            HOME CARE    0.0            0\n",
       "19  19 2013-01-01          1           LADIESWEAR    0.0            0"
      ],
      "text/html": [
       "<div>\n",
       "<style scoped>\n",
       "    .dataframe tbody tr th:only-of-type {\n",
       "        vertical-align: middle;\n",
       "    }\n",
       "\n",
       "    .dataframe tbody tr th {\n",
       "        vertical-align: top;\n",
       "    }\n",
       "\n",
       "    .dataframe thead th {\n",
       "        text-align: right;\n",
       "    }\n",
       "</style>\n",
       "<table border=\"1\" class=\"dataframe\">\n",
       "  <thead>\n",
       "    <tr style=\"text-align: right;\">\n",
       "      <th></th>\n",
       "      <th>id</th>\n",
       "      <th>date</th>\n",
       "      <th>store_nbr</th>\n",
       "      <th>family</th>\n",
       "      <th>sales</th>\n",
       "      <th>onpromotion</th>\n",
       "    </tr>\n",
       "  </thead>\n",
       "  <tbody>\n",
       "    <tr>\n",
       "      <th>0</th>\n",
       "      <td>0</td>\n",
       "      <td>2013-01-01</td>\n",
       "      <td>1</td>\n",
       "      <td>AUTOMOTIVE</td>\n",
       "      <td>0.0</td>\n",
       "      <td>0</td>\n",
       "    </tr>\n",
       "    <tr>\n",
       "      <th>1</th>\n",
       "      <td>1</td>\n",
       "      <td>2013-01-01</td>\n",
       "      <td>1</td>\n",
       "      <td>BABY CARE</td>\n",
       "      <td>0.0</td>\n",
       "      <td>0</td>\n",
       "    </tr>\n",
       "    <tr>\n",
       "      <th>2</th>\n",
       "      <td>2</td>\n",
       "      <td>2013-01-01</td>\n",
       "      <td>1</td>\n",
       "      <td>BEAUTY</td>\n",
       "      <td>0.0</td>\n",
       "      <td>0</td>\n",
       "    </tr>\n",
       "    <tr>\n",
       "      <th>3</th>\n",
       "      <td>3</td>\n",
       "      <td>2013-01-01</td>\n",
       "      <td>1</td>\n",
       "      <td>BEVERAGES</td>\n",
       "      <td>0.0</td>\n",
       "      <td>0</td>\n",
       "    </tr>\n",
       "    <tr>\n",
       "      <th>4</th>\n",
       "      <td>4</td>\n",
       "      <td>2013-01-01</td>\n",
       "      <td>1</td>\n",
       "      <td>BOOKS</td>\n",
       "      <td>0.0</td>\n",
       "      <td>0</td>\n",
       "    </tr>\n",
       "    <tr>\n",
       "      <th>5</th>\n",
       "      <td>5</td>\n",
       "      <td>2013-01-01</td>\n",
       "      <td>1</td>\n",
       "      <td>BREAD/BAKERY</td>\n",
       "      <td>0.0</td>\n",
       "      <td>0</td>\n",
       "    </tr>\n",
       "    <tr>\n",
       "      <th>6</th>\n",
       "      <td>6</td>\n",
       "      <td>2013-01-01</td>\n",
       "      <td>1</td>\n",
       "      <td>CELEBRATION</td>\n",
       "      <td>0.0</td>\n",
       "      <td>0</td>\n",
       "    </tr>\n",
       "    <tr>\n",
       "      <th>7</th>\n",
       "      <td>7</td>\n",
       "      <td>2013-01-01</td>\n",
       "      <td>1</td>\n",
       "      <td>CLEANING</td>\n",
       "      <td>0.0</td>\n",
       "      <td>0</td>\n",
       "    </tr>\n",
       "    <tr>\n",
       "      <th>8</th>\n",
       "      <td>8</td>\n",
       "      <td>2013-01-01</td>\n",
       "      <td>1</td>\n",
       "      <td>DAIRY</td>\n",
       "      <td>0.0</td>\n",
       "      <td>0</td>\n",
       "    </tr>\n",
       "    <tr>\n",
       "      <th>9</th>\n",
       "      <td>9</td>\n",
       "      <td>2013-01-01</td>\n",
       "      <td>1</td>\n",
       "      <td>DELI</td>\n",
       "      <td>0.0</td>\n",
       "      <td>0</td>\n",
       "    </tr>\n",
       "    <tr>\n",
       "      <th>10</th>\n",
       "      <td>10</td>\n",
       "      <td>2013-01-01</td>\n",
       "      <td>1</td>\n",
       "      <td>EGGS</td>\n",
       "      <td>0.0</td>\n",
       "      <td>0</td>\n",
       "    </tr>\n",
       "    <tr>\n",
       "      <th>11</th>\n",
       "      <td>11</td>\n",
       "      <td>2013-01-01</td>\n",
       "      <td>1</td>\n",
       "      <td>FROZEN FOODS</td>\n",
       "      <td>0.0</td>\n",
       "      <td>0</td>\n",
       "    </tr>\n",
       "    <tr>\n",
       "      <th>12</th>\n",
       "      <td>12</td>\n",
       "      <td>2013-01-01</td>\n",
       "      <td>1</td>\n",
       "      <td>GROCERY I</td>\n",
       "      <td>0.0</td>\n",
       "      <td>0</td>\n",
       "    </tr>\n",
       "    <tr>\n",
       "      <th>13</th>\n",
       "      <td>13</td>\n",
       "      <td>2013-01-01</td>\n",
       "      <td>1</td>\n",
       "      <td>GROCERY II</td>\n",
       "      <td>0.0</td>\n",
       "      <td>0</td>\n",
       "    </tr>\n",
       "    <tr>\n",
       "      <th>14</th>\n",
       "      <td>14</td>\n",
       "      <td>2013-01-01</td>\n",
       "      <td>1</td>\n",
       "      <td>HARDWARE</td>\n",
       "      <td>0.0</td>\n",
       "      <td>0</td>\n",
       "    </tr>\n",
       "    <tr>\n",
       "      <th>15</th>\n",
       "      <td>15</td>\n",
       "      <td>2013-01-01</td>\n",
       "      <td>1</td>\n",
       "      <td>HOME AND KITCHEN I</td>\n",
       "      <td>0.0</td>\n",
       "      <td>0</td>\n",
       "    </tr>\n",
       "    <tr>\n",
       "      <th>16</th>\n",
       "      <td>16</td>\n",
       "      <td>2013-01-01</td>\n",
       "      <td>1</td>\n",
       "      <td>HOME AND KITCHEN II</td>\n",
       "      <td>0.0</td>\n",
       "      <td>0</td>\n",
       "    </tr>\n",
       "    <tr>\n",
       "      <th>17</th>\n",
       "      <td>17</td>\n",
       "      <td>2013-01-01</td>\n",
       "      <td>1</td>\n",
       "      <td>HOME APPLIANCES</td>\n",
       "      <td>0.0</td>\n",
       "      <td>0</td>\n",
       "    </tr>\n",
       "    <tr>\n",
       "      <th>18</th>\n",
       "      <td>18</td>\n",
       "      <td>2013-01-01</td>\n",
       "      <td>1</td>\n",
       "      <td>HOME CARE</td>\n",
       "      <td>0.0</td>\n",
       "      <td>0</td>\n",
       "    </tr>\n",
       "    <tr>\n",
       "      <th>19</th>\n",
       "      <td>19</td>\n",
       "      <td>2013-01-01</td>\n",
       "      <td>1</td>\n",
       "      <td>LADIESWEAR</td>\n",
       "      <td>0.0</td>\n",
       "      <td>0</td>\n",
       "    </tr>\n",
       "  </tbody>\n",
       "</table>\n",
       "</div>"
      ]
     },
     "execution_count": 128,
     "metadata": {},
     "output_type": "execute_result"
    }
   ],
   "execution_count": 128
  },
  {
   "metadata": {
    "ExecuteTime": {
     "end_time": "2025-04-11T07:46:57.166719Z",
     "start_time": "2025-04-11T07:46:57.057799Z"
    }
   },
   "cell_type": "code",
   "source": [
    "# Convert the 'family' column to integer codes\n",
    "data_train['family'], _ = pd.factorize(data_train['family'])\n",
    "\n",
    "# Verify the conversion\n",
    "data_train.tail(100)"
   ],
   "id": "c550e54013ad893a",
   "outputs": [
    {
     "data": {
      "text/plain": [
       "              id       date  store_nbr  family     sales  onpromotion\n",
       "3000788  3000788 2017-08-15          6      32    47.575            0\n",
       "3000789  3000789 2017-08-15          7       0     5.000            0\n",
       "3000790  3000790 2017-08-15          7       1     0.000            0\n",
       "3000791  3000791 2017-08-15          7       2    11.000            2\n",
       "3000792  3000792 2017-08-15          7       3  3999.000            9\n",
       "...          ...        ...        ...     ...       ...          ...\n",
       "3000883  3000883 2017-08-15          9      28   438.133            0\n",
       "3000884  3000884 2017-08-15          9      29   154.553            1\n",
       "3000885  3000885 2017-08-15          9      30  2419.729          148\n",
       "3000886  3000886 2017-08-15          9      31   121.000            8\n",
       "3000887  3000887 2017-08-15          9      32    16.000            0\n",
       "\n",
       "[100 rows x 6 columns]"
      ],
      "text/html": [
       "<div>\n",
       "<style scoped>\n",
       "    .dataframe tbody tr th:only-of-type {\n",
       "        vertical-align: middle;\n",
       "    }\n",
       "\n",
       "    .dataframe tbody tr th {\n",
       "        vertical-align: top;\n",
       "    }\n",
       "\n",
       "    .dataframe thead th {\n",
       "        text-align: right;\n",
       "    }\n",
       "</style>\n",
       "<table border=\"1\" class=\"dataframe\">\n",
       "  <thead>\n",
       "    <tr style=\"text-align: right;\">\n",
       "      <th></th>\n",
       "      <th>id</th>\n",
       "      <th>date</th>\n",
       "      <th>store_nbr</th>\n",
       "      <th>family</th>\n",
       "      <th>sales</th>\n",
       "      <th>onpromotion</th>\n",
       "    </tr>\n",
       "  </thead>\n",
       "  <tbody>\n",
       "    <tr>\n",
       "      <th>3000788</th>\n",
       "      <td>3000788</td>\n",
       "      <td>2017-08-15</td>\n",
       "      <td>6</td>\n",
       "      <td>32</td>\n",
       "      <td>47.575</td>\n",
       "      <td>0</td>\n",
       "    </tr>\n",
       "    <tr>\n",
       "      <th>3000789</th>\n",
       "      <td>3000789</td>\n",
       "      <td>2017-08-15</td>\n",
       "      <td>7</td>\n",
       "      <td>0</td>\n",
       "      <td>5.000</td>\n",
       "      <td>0</td>\n",
       "    </tr>\n",
       "    <tr>\n",
       "      <th>3000790</th>\n",
       "      <td>3000790</td>\n",
       "      <td>2017-08-15</td>\n",
       "      <td>7</td>\n",
       "      <td>1</td>\n",
       "      <td>0.000</td>\n",
       "      <td>0</td>\n",
       "    </tr>\n",
       "    <tr>\n",
       "      <th>3000791</th>\n",
       "      <td>3000791</td>\n",
       "      <td>2017-08-15</td>\n",
       "      <td>7</td>\n",
       "      <td>2</td>\n",
       "      <td>11.000</td>\n",
       "      <td>2</td>\n",
       "    </tr>\n",
       "    <tr>\n",
       "      <th>3000792</th>\n",
       "      <td>3000792</td>\n",
       "      <td>2017-08-15</td>\n",
       "      <td>7</td>\n",
       "      <td>3</td>\n",
       "      <td>3999.000</td>\n",
       "      <td>9</td>\n",
       "    </tr>\n",
       "    <tr>\n",
       "      <th>...</th>\n",
       "      <td>...</td>\n",
       "      <td>...</td>\n",
       "      <td>...</td>\n",
       "      <td>...</td>\n",
       "      <td>...</td>\n",
       "      <td>...</td>\n",
       "    </tr>\n",
       "    <tr>\n",
       "      <th>3000883</th>\n",
       "      <td>3000883</td>\n",
       "      <td>2017-08-15</td>\n",
       "      <td>9</td>\n",
       "      <td>28</td>\n",
       "      <td>438.133</td>\n",
       "      <td>0</td>\n",
       "    </tr>\n",
       "    <tr>\n",
       "      <th>3000884</th>\n",
       "      <td>3000884</td>\n",
       "      <td>2017-08-15</td>\n",
       "      <td>9</td>\n",
       "      <td>29</td>\n",
       "      <td>154.553</td>\n",
       "      <td>1</td>\n",
       "    </tr>\n",
       "    <tr>\n",
       "      <th>3000885</th>\n",
       "      <td>3000885</td>\n",
       "      <td>2017-08-15</td>\n",
       "      <td>9</td>\n",
       "      <td>30</td>\n",
       "      <td>2419.729</td>\n",
       "      <td>148</td>\n",
       "    </tr>\n",
       "    <tr>\n",
       "      <th>3000886</th>\n",
       "      <td>3000886</td>\n",
       "      <td>2017-08-15</td>\n",
       "      <td>9</td>\n",
       "      <td>31</td>\n",
       "      <td>121.000</td>\n",
       "      <td>8</td>\n",
       "    </tr>\n",
       "    <tr>\n",
       "      <th>3000887</th>\n",
       "      <td>3000887</td>\n",
       "      <td>2017-08-15</td>\n",
       "      <td>9</td>\n",
       "      <td>32</td>\n",
       "      <td>16.000</td>\n",
       "      <td>0</td>\n",
       "    </tr>\n",
       "  </tbody>\n",
       "</table>\n",
       "<p>100 rows × 6 columns</p>\n",
       "</div>"
      ]
     },
     "execution_count": 129,
     "metadata": {},
     "output_type": "execute_result"
    }
   ],
   "execution_count": 129
  },
  {
   "metadata": {
    "ExecuteTime": {
     "end_time": "2025-04-11T07:46:57.467113Z",
     "start_time": "2025-04-11T07:46:57.199974Z"
    }
   },
   "cell_type": "code",
   "source": [
    "df1 = data_train.merge(data_stores,  \n",
    "                      on='store_nbr',\n",
    "                      how='left')"
   ],
   "id": "88b387427b476804",
   "outputs": [],
   "execution_count": 130
  },
  {
   "metadata": {
    "ExecuteTime": {
     "end_time": "2025-04-11T07:46:57.915591Z",
     "start_time": "2025-04-11T07:46:57.483807Z"
    }
   },
   "cell_type": "code",
   "source": [
    "df2 = df1.merge(data_transactions,\n",
    "                on=['store_nbr', 'date'],\n",
    "                how='left')\n",
    "df3 = df2.merge(data_oil,\n",
    "                on='date',\n",
    "                how='left')\n"
   ],
   "id": "3473a7ebea1b5844",
   "outputs": [],
   "execution_count": 131
  },
  {
   "metadata": {
    "ExecuteTime": {
     "end_time": "2025-04-11T07:46:59.033494Z",
     "start_time": "2025-04-11T07:46:57.919807Z"
    }
   },
   "cell_type": "code",
   "source": [
    "#date,type,locale,locale_name,description,transferred\n",
    "# Based on the locale column value is \"National\" then do df3.merge(data_holidays_events) left on 'date' mark put holiday as 1 else 0\n",
    "# Based on the locale column value is \"local\" and city name matches then then do df3.merge(data_holidays_events) left on 'date' mark put holiday as 1 else 0\n",
    "# Based on the locale column value is \"Regional\" and State name matches then then do df3.merge(data_holidays_events) left on 'date' mark put holiday as 1 else 0\n",
    "\n",
    "# Merge holidays data with df3\n",
    "final_df = df3.merge(data_holidays_events, on='date', how='left')\n",
    "\n",
    "# Initialize the is_holiday column with 0\n",
    "final_df['is_holiday'] = 0\n",
    "\n",
    "# Apply conditions for National holidays\n",
    "final_df.loc[final_df['locale'] == 'National', 'is_holiday'] = 1\n",
    "\n",
    "# Apply conditions for Local holidays (city matches)\n",
    "final_df.loc[(final_df['locale'] == 'Local') &\n",
    "              (final_df['city'] == final_df['locale_name']), 'is_holiday'] = 1\n",
    "\n",
    "# Apply conditions for Regional holidays (state matches)\n",
    "final_df.loc[(final_df['locale'] == 'Regional') &\n",
    "              (final_df['state'] == final_df['locale_name']), 'is_holiday'] = 1\n",
    "\n",
    "\n",
    "\n",
    "\n"
   ],
   "id": "6642a8637f7f2385",
   "outputs": [],
   "execution_count": 132
  },
  {
   "metadata": {
    "ExecuteTime": {
     "end_time": "2025-04-11T07:46:59.047597Z",
     "start_time": "2025-04-11T07:46:59.046371Z"
    }
   },
   "cell_type": "code",
   "source": "",
   "id": "fa7daa686841e6d6",
   "outputs": [],
   "execution_count": null
  },
  {
   "metadata": {
    "ExecuteTime": {
     "end_time": "2025-04-11T07:46:59.063910Z",
     "start_time": "2025-04-11T07:46:59.059526Z"
    }
   },
   "cell_type": "code",
   "source": "final_df.info()",
   "id": "89c845ac33745c02",
   "outputs": [
    {
     "name": "stdout",
     "output_type": "stream",
     "text": [
      "<class 'pandas.core.frame.DataFrame'>\n",
      "RangeIndex: 3054348 entries, 0 to 3054347\n",
      "Data columns (total 18 columns):\n",
      " #   Column        Dtype         \n",
      "---  ------        -----         \n",
      " 0   id            int64         \n",
      " 1   date          datetime64[ns]\n",
      " 2   store_nbr     int64         \n",
      " 3   family        int64         \n",
      " 4   sales         float64       \n",
      " 5   onpromotion   int64         \n",
      " 6   city          object        \n",
      " 7   state         object        \n",
      " 8   type_x        object        \n",
      " 9   cluster       int64         \n",
      " 10  transactions  float64       \n",
      " 11  dcoilwtico    float64       \n",
      " 12  type_y        object        \n",
      " 13  locale        object        \n",
      " 14  locale_name   object        \n",
      " 15  description   object        \n",
      " 16  transferred   object        \n",
      " 17  is_holiday    int64         \n",
      "dtypes: datetime64[ns](1), float64(3), int64(6), object(8)\n",
      "memory usage: 419.5+ MB\n"
     ]
    }
   ],
   "execution_count": 133
  }
 ],
 "metadata": {
  "kernelspec": {
   "display_name": "Python 3",
   "language": "python",
   "name": "python3"
  },
  "language_info": {
   "codemirror_mode": {
    "name": "ipython",
    "version": 2
   },
   "file_extension": ".py",
   "mimetype": "text/x-python",
   "name": "python",
   "nbconvert_exporter": "python",
   "pygments_lexer": "ipython2",
   "version": "2.7.6"
  }
 },
 "nbformat": 4,
 "nbformat_minor": 5
}
